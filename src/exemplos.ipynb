{
 "cells": [
  {
   "cell_type": "code",
   "execution_count": 1,
   "id": "c17260cb",
   "metadata": {},
   "outputs": [],
   "source": [
    "import pandas as pd\n",
    "import os"
   ]
  },
  {
   "cell_type": "markdown",
   "id": "5f9df494",
   "metadata": {},
   "source": [
    "# Trabalhando com as partições\n",
    "\n",
    "Depois de rodar o script `etl.py`, os dataframes ficarão salvos na pasta out_parquet. Basicamente, eles são particionados com base no `chunksize` especificado.\n",
    "A partir disso, você tem algumas opções para ler essas partições. Optei por carregar e fazer operações dentro de um loop para cada chunk.\n",
    "Como exemplo, vamos fazer o mesmo filtro utilizado no `etl_dados.ipynb` para encontrar apenas pessoas com 60 anos ou mais, e junta-las em um dataframe no final."
   ]
  },
  {
   "cell_type": "code",
   "execution_count": 2,
   "id": "730a07af",
   "metadata": {},
   "outputs": [
    {
     "name": "stdout",
     "output_type": "stream",
     "text": [
      "Total de idosos: 5385\n",
      "Total de idosos: 6509\n",
      "Total de idosos: 7652\n",
      "Total de idosos: 8233\n",
      "Total de idosos: 8940\n",
      "Total de idosos: 6835\n",
      "Final: (43554, 1088)\n",
      "0    69.0\n",
      "1    78.0\n",
      "2    81.0\n",
      "3    81.0\n",
      "4    72.0\n",
      "Name: C008, dtype: float64\n"
     ]
    }
   ],
   "source": [
    "partes = []\n",
    "for arquivo in sorted(os.listdir(\"out_parquet\")):\n",
    "    df = pd.read_parquet(f\"out_parquet/{arquivo}\")\n",
    "    if \"C008\" in df.columns: # C008 é o código da variável de idade\n",
    "        df[\"C008\"] = pd.to_numeric(df[\"C008\"], errors=\"coerce\")\n",
    "        idosos = df[df[\"C008\"] >= 60]\n",
    "        print(f\"Total de idosos: {len(idosos)}\")\n",
    "        partes.append(idosos)\n",
    "\n",
    "idosos = pd.concat(partes, ignore_index=True)\n",
    "print(\"Final:\", idosos.shape)\n",
    "print(idosos[\"C008\"].head(5))"
   ]
  },
  {
   "cell_type": "markdown",
   "id": "299ab0c5",
   "metadata": {},
   "source": [
    "Agrupar todos na memória como fiz não é exatamente eficiente, mas servirá já que não estamos trabalhando com tantas linhas de dado.\n",
    "Vamos importar o dicionário também para auxiliar nas variáveis:"
   ]
  },
  {
   "cell_type": "code",
   "execution_count": 3,
   "id": "37a05a65",
   "metadata": {},
   "outputs": [
    {
     "name": "stdout",
     "output_type": "stream",
     "text": [
      "\n",
      " C008 — Idade do morador na data de referência\n",
      "Valores possíveis:\n",
      "  000 a 130 → Idade (em anos)\n",
      "  <NA> → Não aplicável\n"
     ]
    }
   ],
   "source": [
    "from dic_base import DicBase\n",
    "\n",
    "dic = DicBase()\n",
    "dic.describe_var(\"C008\")"
   ]
  },
  {
   "cell_type": "markdown",
   "id": "b124fa78",
   "metadata": {},
   "source": [
    "Vamos agora continuar aplicando filtros. A forma como fiz na parte dos idosos foi com:\n",
    "```python\n",
    "idosos = df[df[\"C008\"] >= 60]\n",
    "```\n",
    "Que é indexação booleana. Ela é muito poderosa, e pode ser utilizada para aplicar vários filtros em seguida. Por exemplo, vamos filtrar todos os homens que sabem ler e escrever."
   ]
  },
  {
   "cell_type": "code",
   "execution_count": 4,
   "id": "58b11957",
   "metadata": {},
   "outputs": [
    {
     "name": "stdout",
     "output_type": "stream",
     "text": [
      "\n",
      " C006 — Sexo\n",
      "Valores possíveis:\n",
      "    1 → Homem\n",
      "    2 → Mulher\n",
      "  <NA> → Não aplicável\n",
      "\n",
      " D001 — Sabe ler e escrever\n",
      "Valores possíveis:\n",
      "    1 → Sim\n",
      "    2 → Não\n",
      "    9 → Ignorado\n",
      "  <NA> → Não aplicável\n"
     ]
    }
   ],
   "source": [
    "dic.describe_var(\"C006\")\n",
    "dic.describe_var(\"D001\")"
   ]
  },
  {
   "cell_type": "markdown",
   "id": "2eb03eb3",
   "metadata": {},
   "source": [
    "##"
   ]
  },
  {
   "cell_type": "code",
   "execution_count": 5,
   "id": "c123f28c",
   "metadata": {},
   "outputs": [
    {
     "name": "stdout",
     "output_type": "stream",
     "text": [
      "(14527, 1088)\n"
     ]
    }
   ],
   "source": [
    "idosos[\"C006\"] = pd.to_numeric(idosos[\"C006\"], errors=\"coerce\")\n",
    "idosos[\"D001\"] = pd.to_numeric(idosos[\"D001\"], errors=\"coerce\")\n",
    "idosos_aux = idosos[(idosos[\"C006\"] == 1) & (idosos[\"D001\"] == 1)]\n",
    "print(idosos_aux.shape)"
   ]
  },
  {
   "cell_type": "markdown",
   "id": "bb51ac1d",
   "metadata": {},
   "source": [
    "Você pode ter o mesmo resultando comparando assim:"
   ]
  },
  {
   "cell_type": "code",
   "execution_count": 6,
   "id": "2dae7160",
   "metadata": {},
   "outputs": [
    {
     "name": "stdout",
     "output_type": "stream",
     "text": [
      "idosos leitores (14527, 1088)\n",
      "idosas leitoras (18667, 1088)\n"
     ]
    }
   ],
   "source": [
    "cond_homem = idosos[\"C006\"] == 1\n",
    "cond_mulher = idosos[\"C006\"] == 2\n",
    "cond_ler = idosos[\"D001\"] == 1\n",
    "\n",
    "homens_leitores = idosos[cond_ler & cond_homem]\n",
    "mulheres_leitoras = idosos[cond_ler & cond_mulher]\n",
    "\n",
    "print(\"idosos leitores\", homens_leitores.shape)\n",
    "print(\"idosas leitoras\", mulheres_leitoras.shape)"
   ]
  },
  {
   "cell_type": "markdown",
   "id": "b35a672f",
   "metadata": {},
   "source": [
    "Para auxiliar nas análises, temos outra classe utilitária:"
   ]
  },
  {
   "cell_type": "code",
   "execution_count": 7,
   "id": "89fad25f",
   "metadata": {},
   "outputs": [
    {
     "name": "stdout",
     "output_type": "stream",
     "text": [
      "\n",
      " A001 — Tipo do domicílio\n",
      "Valores possíveis:\n",
      "    1 → Casa\n",
      "    2 → Apartamento\n",
      "    3 → Habitação em casa de cômodos, cortiço ou cabeça de porco\n",
      "    9 → Ignorado\n",
      "  <NA> → Não aplicável\n",
      "\n",
      " A005012 — Este domicílio está ligado à rede geral de distribuição de água?\n",
      "Valores possíveis:\n",
      "    1 → Sim\n",
      "    2 → Não\n",
      "    9 → Ignorado\n",
      "  <NA> → Não aplicável\n",
      "\n",
      " C00701 — Dia de nascimento\n",
      "Valores possíveis:\n",
      "  01 a 31 → Dia de nascimento\n",
      "   99 → Não informado\n",
      "  <NA> → Não aplicável\n"
     ]
    }
   ],
   "source": [
    "cod_domicilio = \"A001\"\n",
    "dic.describe_var(cod_domicilio)\n",
    "cod_rede_agua = \"A005012\"\n",
    "dic.describe_var(cod_rede_agua)\n",
    "cod_dia_nascimento = \"C00701\"\n",
    "dic.describe_var(cod_dia_nascimento)"
   ]
  },
  {
   "cell_type": "code",
   "execution_count": 8,
   "id": "b7fe61ea",
   "metadata": {},
   "outputs": [
    {
     "name": "stdout",
     "output_type": "stream",
     "text": [
      "Água e casa: (1706, 1088)\n",
      "Água e apartamento: (135, 1088)\n",
      "não aplicavel (água): (33518, 1088)\n",
      "idosos que nasceram entre dia 1 e 15: (21755, 1088)\n",
      "idosos que nasceram entre dia 16 e 31: (19407, 1088)\n"
     ]
    }
   ],
   "source": [
    "from pd_utils import between_numeric, compare_numeric, is_na\n",
    "\n",
    "# Seguindo a ideia de criar as condições primeiro\n",
    "cond_casa = compare_numeric(idosos, cod_domicilio, \"==\", 1)\n",
    "cond_agua = compare_numeric(idosos, cod_rede_agua, \"==\", 1)\n",
    "\n",
    "selecionados = idosos[cond_casa & cond_agua]\n",
    "print(\"Água e casa:\", selecionados.shape)\n",
    "\n",
    "# Ambos ao mesmo tempo\n",
    "selecionados = idosos[\n",
    "    compare_numeric(idosos, cod_domicilio, \"==\", 2) &\n",
    "    compare_numeric(idosos, cod_rede_agua, \"==\", 1)\n",
    "]\n",
    "print(\"Água e apartamento:\", selecionados.shape)\n",
    "\n",
    "# Sem respostas (Comparar usando o is_na)\n",
    "selecionados = idosos[\n",
    "    is_na(idosos, cod_rede_agua)\n",
    "]\n",
    "print(\"não aplicavel (água):\", selecionados.shape)\n",
    "\n",
    "# Range de valores\n",
    "selecionados = idosos[\n",
    "    between_numeric(idosos, cod_dia_nascimento, 1, 15) # Entre o dia 1 e 15 (inclusive como default = both)\n",
    "]\n",
    "print(\"idosos que nasceram entre dia 1 e 15:\", selecionados.shape)\n",
    "\n",
    "# Pode usar outros operadores no compare_numeric, confira a documentação para ver as opções\n",
    "selecionados = idosos[\n",
    "    compare_numeric(idosos, cod_dia_nascimento, \">\", 15) &\n",
    "    compare_numeric(idosos, cod_dia_nascimento, \"<=\", 31)\n",
    "]\n",
    "print(\"idosos que nasceram entre dia 16 e 31:\", selecionados.shape)"
   ]
  }
 ],
 "metadata": {
  "kernelspec": {
   "display_name": ".venv",
   "language": "python",
   "name": "python3"
  },
  "language_info": {
   "codemirror_mode": {
    "name": "ipython",
    "version": 3
   },
   "file_extension": ".py",
   "mimetype": "text/x-python",
   "name": "python",
   "nbconvert_exporter": "python",
   "pygments_lexer": "ipython3",
   "version": "3.13.9"
  }
 },
 "nbformat": 4,
 "nbformat_minor": 5
}
