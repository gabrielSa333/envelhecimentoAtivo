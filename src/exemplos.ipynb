{
 "cells": [
  {
   "cell_type": "code",
   "execution_count": 33,
   "id": "c17260cb",
   "metadata": {},
   "outputs": [],
   "source": [
    "import pandas as pd\n",
    "import os"
   ]
  },
  {
   "cell_type": "markdown",
   "id": "5f9df494",
   "metadata": {},
   "source": [
    "# Trabalhando com as partições\n",
    "\n",
    "Depois de rodar o script `etl.py`, os dataframes ficarão salvos na pasta out_parquet. Basicamente, eles são particionados com base no `chunksize` especificado.\n",
    "A partir disso, você tem algumas opções para ler essas partições. Optei por carregar e fazer operações dentro de um loop para cada chunk.\n",
    "Como exemplo, vamos fazer o mesmo filtro utilizado no `etl_dados.ipynb` para encontrar apenas pessoas com 60 anos ou mais, e junta-las em um dataframe no final."
   ]
  },
  {
   "cell_type": "code",
   "execution_count": 41,
   "id": "730a07af",
   "metadata": {},
   "outputs": [
    {
     "name": "stdout",
     "output_type": "stream",
     "text": [
      "Total de idosos: 5385\n",
      "Total de idosos: 6509\n",
      "Total de idosos: 7652\n",
      "Total de idosos: 8233\n",
      "Total de idosos: 8940\n",
      "Total de idosos: 6835\n",
      "Final: (43554, 1088)\n",
      "0    69.0\n",
      "1    78.0\n",
      "2    81.0\n",
      "3    81.0\n",
      "4    72.0\n",
      "Name: C008, dtype: float64\n"
     ]
    }
   ],
   "source": [
    "partes = []\n",
    "for arquivo in sorted(os.listdir(\"out_parquet\")):\n",
    "    df = pd.read_parquet(f\"out_parquet/{arquivo}\")\n",
    "    if \"C008\" in df.columns: # C008 é o código da variável de idade\n",
    "        df[\"C008\"] = pd.to_numeric(df[\"C008\"], errors=\"coerce\")\n",
    "        idosos = df[df[\"C008\"] >= 60]\n",
    "        print(f\"Total de idosos: {len(idosos)}\")\n",
    "        partes.append(idosos)\n",
    "\n",
    "df_idosos = pd.concat(partes, ignore_index=True)\n",
    "print(\"Final:\", df_idosos.shape)\n",
    "print(df_idosos[\"C008\"].head(5))"
   ]
  },
  {
   "cell_type": "markdown",
   "id": "299ab0c5",
   "metadata": {},
   "source": [
    "Agrupar todos na memória como fiz não é exatamente eficiente, mas servirá já que não estamos trabalhando com tantas linhas de dado.\n",
    "Vamos importar o dicionário também para auxiliar nas variáveis:"
   ]
  },
  {
   "cell_type": "code",
   "execution_count": 42,
   "id": "37a05a65",
   "metadata": {},
   "outputs": [
    {
     "name": "stdout",
     "output_type": "stream",
     "text": [
      "{'000 a 130': 'Idade (em anos)'}\n"
     ]
    }
   ],
   "source": [
    "from dic_base import DicBase\n",
    "\n",
    "dic = DicBase()\n",
    "print(dic.code_maps[\"C008\"])"
   ]
  },
  {
   "cell_type": "markdown",
   "id": "b124fa78",
   "metadata": {},
   "source": [
    "Vamos agora continuar aplicando filtros. A forma como fiz na parte dos idosos foi com:\n",
    "```python\n",
    "idosos = df[df[\"C008\"] >= 60]\n",
    "```\n",
    "Que é indexação booleana. Ela é muito poderosa, e pode ser utilizada para aplicar vários filtros em seguida. Por exemplo, vamos filtrar todos os homens que sabem ler e escrever e fazem uso de óculos."
   ]
  },
  {
   "cell_type": "code",
   "execution_count": 43,
   "id": "58b11957",
   "metadata": {},
   "outputs": [
    {
     "name": "stdout",
     "output_type": "stream",
     "text": [
      "{'1': 'Homem', '2': 'Mulher'}\n",
      "{'1': 'Sim', '2': 'Não', '9 ': 'Ignorado'}\n",
      "{'1': 'Sim', '2': 'Não', '9 ': 'Ignorado'}\n"
     ]
    }
   ],
   "source": [
    "print(dic.code_maps[\"C006\"]) # Sexo\n",
    "print(dic.code_maps[\"D001\"]) # Sabe ler e escrever\n",
    "print(dic.code_maps[\"G033\"]) # Usa óculos"
   ]
  },
  {
   "cell_type": "markdown",
   "id": "2eb03eb3",
   "metadata": {},
   "source": [
    "##"
   ]
  },
  {
   "cell_type": "code",
   "execution_count": 37,
   "id": "c123f28c",
   "metadata": {},
   "outputs": [
    {
     "name": "stdout",
     "output_type": "stream",
     "text": [
      "(10199, 1088)\n"
     ]
    }
   ],
   "source": [
    "df_idosos[\"C006\"] = pd.to_numeric(df_idosos[\"C006\"], errors=\"coerce\")\n",
    "df_idosos[\"D001\"] = pd.to_numeric(df_idosos[\"D001\"], errors=\"coerce\")\n",
    "df_idosos[\"G033\"] = pd.to_numeric(df_idosos[\"G033\"], errors=\"coerce\")\n",
    "idosos_aux = df_idosos[(df_idosos[\"C006\"] == 1) & (df_idosos[\"D001\"] == 1) & (df_idosos[\"G033\"] == 1)]\n",
    "print(idosos_aux.shape)"
   ]
  }
 ],
 "metadata": {
  "kernelspec": {
   "display_name": ".venv",
   "language": "python",
   "name": "python3"
  },
  "language_info": {
   "codemirror_mode": {
    "name": "ipython",
    "version": 3
   },
   "file_extension": ".py",
   "mimetype": "text/x-python",
   "name": "python",
   "nbconvert_exporter": "python",
   "pygments_lexer": "ipython3",
   "version": "3.13.9"
  }
 },
 "nbformat": 4,
 "nbformat_minor": 5
}
