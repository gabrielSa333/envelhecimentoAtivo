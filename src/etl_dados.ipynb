{
 "cells": [
  {
   "cell_type": "code",
   "execution_count": 1,
   "id": "07d4c9e2",
   "metadata": {},
   "outputs": [],
   "source": [
    "import pandas as pd"
   ]
  },
  {
   "cell_type": "markdown",
   "id": "d19bbcad",
   "metadata": {},
   "source": [
    "Com o arquivo `dicionario_tratado.csv` em mãos (gerado no etl_dicionario), vamos prosseguir com a leitura do .txt.\n",
    "Para iniciar, o pandas fornece uma função especifica para estes modelos, e vamos usar o nosso csv para tal."
   ]
  },
  {
   "cell_type": "code",
   "execution_count": 2,
   "id": "77bb5e89",
   "metadata": {},
   "outputs": [
    {
     "name": "stdout",
     "output_type": "stream",
     "text": [
      "  Posição inicial  Tamanho Código da variável Quesito     Descrição quesito  \\\n",
      "0               1      2.0              V0001     NaN  Unidade da Federação   \n",
      "1               1      2.0              V0001     NaN  Unidade da Federação   \n",
      "2               1      2.0              V0001     NaN  Unidade da Federação   \n",
      "3               1      2.0              V0001     NaN  Unidade da Federação   \n",
      "4               1      2.0              V0001     NaN  Unidade da Federação   \n",
      "\n",
      "  Tipo categoria Descrição categoria  \n",
      "0             11            Rondônia  \n",
      "1             12                Acre  \n",
      "2             13            Amazonas  \n",
      "3             14             Roraima  \n",
      "4             15                Pará  \n"
     ]
    }
   ],
   "source": [
    "dic = pd.read_csv(\"dicionario_tratado.csv\")\n",
    "print(dic.head())"
   ]
  },
  {
   "cell_type": "markdown",
   "id": "1a7ea5e8",
   "metadata": {},
   "source": [
    "Vamos começar lidando com as linhas com mesmo código da variável, mas com valores de variáveis diferentes"
   ]
  },
  {
   "cell_type": "code",
   "execution_count": 3,
   "id": "512d1ff0",
   "metadata": {},
   "outputs": [
    {
     "name": "stdout",
     "output_type": "stream",
     "text": [
      "A001\n",
      "(34, 35)\n"
     ]
    }
   ],
   "source": [
    "dic_vars = (\n",
    "    dic.groupby('Código da variável', as_index=False)\n",
    "       .agg({'Posição inicial':'first', 'Tamanho':'first'})\n",
    "       .rename(columns={'Código da variável':'var'})\n",
    ")\n",
    "# garantir inteiros\n",
    "dic_vars['Posição inicial'] = dic_vars['Posição inicial'].astype('Int64')\n",
    "dic_vars['Tamanho'] = dic_vars['Tamanho'].astype('Int64')\n",
    "\n",
    "# Posições\n",
    "dic_vars['start0'] = dic_vars['Posição inicial'] - 1\n",
    "dic_vars['end0']   = dic_vars['start0'] + dic_vars['Tamanho']\n",
    "\n",
    "colspecs = list(zip(dic_vars['start0'].astype(int), dic_vars['end0'].astype(int)))\n",
    "names = dic_vars['var'].tolist()\n",
    "\n",
    "print(names[0])\n",
    "print(colspecs[0])\n"
   ]
  },
  {
   "cell_type": "markdown",
   "id": "cb00c064",
   "metadata": {},
   "source": [
    "Agora, vamos criar o mapping para as variáveis"
   ]
  },
  {
   "cell_type": "code",
   "execution_count": 4,
   "id": "80d876f6",
   "metadata": {},
   "outputs": [
    {
     "name": "stdout",
     "output_type": "stream",
     "text": [
      "{'11': 'Rondônia', '12': 'Acre', '13': 'Amazonas', '14': 'Roraima', '15': 'Pará', '16': 'Amapá', '17': 'Tocantins', '21': 'Maranhão', '22': 'Piauí', '23': 'Ceará', '24': 'Rio Grande do Norte', '25': 'Paraíba', '26': 'Pernambuco', '27': 'Alagoas', '28': 'Sergipe', '29': 'Bahia', '31': 'Minas Gerais', '32': 'Espírito Santo', '33': 'Rio de Janeiro', '35': 'São Paulo', '41': 'Paraná', '42': 'Santa Catarina', '43': 'Rio Grande do Sul', '50': 'Mato Grosso do Sul', '51': 'Mato Grosso', '52': 'Goiás', '53': 'Distrito Federal'}\n"
     ]
    }
   ],
   "source": [
    "dic['Tipo categoria'] = dic['Tipo categoria'].astype('string')\n",
    "dic['Descrição categoria'] = dic['Descrição categoria'].astype('string')\n",
    "\n",
    "code_maps = {}\n",
    "for var, g in dic.groupby('Código da variável'):\n",
    "    # só linhas que realmente têm categoria\n",
    "    g = g.dropna(subset=['Tipo categoria', 'Descrição categoria'])\n",
    "    if not g.empty:\n",
    "        code_maps[var] = dict(zip(g['Tipo categoria'], g['Descrição categoria']))\n",
    "\n",
    "print(code_maps['V0001'])\n"
   ]
  },
  {
   "cell_type": "markdown",
   "id": "98a3e209",
   "metadata": {},
   "source": [
    "Finalmente, podemos seguir com a leitura dos microdados. Não vou fazer o parse de todas as variáveis com a função acima porque adicionaria muito tempo, utilizaremos a função apenas para auxiliar no entendimento."
   ]
  },
  {
   "cell_type": "code",
   "execution_count": 5,
   "id": "82a7f5e8",
   "metadata": {},
   "outputs": [
    {
     "name": "stdout",
     "output_type": "stream",
     "text": [
      "  A001 A002010 A003010 A004010 A005010 A005012 A00601 A009010 A01001 A011  \\\n",
      "0    1       1       1       1       1     NaN      1       1     05   02   \n",
      "1    1       1       1       1       1     NaN      1       1     05   02   \n",
      "2    1       1       1       1       1     NaN      1       1     05   02   \n",
      "3    1       1       1       1       1     NaN      1       1     05   02   \n",
      "4    1       1       1       1       1     NaN      1       1     05   02   \n",
      "\n",
      "   ... Z007 Z008 Z009 Z010 Z011 Z012 Z013 Z01401 Z01402 k055  \n",
      "0  ...  NaN  NaN  NaN  NaN  NaN  NaN  NaN    NaN    NaN  NaN  \n",
      "1  ...  NaN  NaN  NaN  NaN  NaN  NaN  NaN    NaN    NaN  NaN  \n",
      "2  ...  NaN  NaN  NaN  NaN  NaN  NaN  NaN    NaN    NaN  NaN  \n",
      "3  ...  NaN  NaN  NaN  NaN  NaN  NaN  NaN    NaN    NaN  NaN  \n",
      "4  ...  NaN  NaN  NaN  NaN  NaN  NaN  NaN    NaN    NaN  NaN  \n",
      "\n",
      "[5 rows x 1088 columns]\n"
     ]
    }
   ],
   "source": [
    "df = pd.read_fwf(\n",
    "    'PNS_2019.txt',\n",
    "    colspecs=colspecs,\n",
    "    names=names,\n",
    "    dtype=str,\n",
    "    encoding='utf-8',\n",
    "    nrows=1000\n",
    ")\n",
    "\n",
    "print(df.head())"
   ]
  },
  {
   "cell_type": "markdown",
   "id": "3dfc7ca3",
   "metadata": {},
   "source": [
    "Vamos começar filtrando os idosos. Olhando no dicionário, o código para a idade é `C008`."
   ]
  },
  {
   "cell_type": "code",
   "execution_count": 6,
   "id": "6b9e77c9",
   "metadata": {},
   "outputs": [
    {
     "name": "stdout",
     "output_type": "stream",
     "text": [
      "{'000 a 130': 'Idade (em anos)'}\n",
      "0    055\n",
      "1    069\n",
      "2    031\n",
      "3    009\n",
      "4    006\n",
      "5    004\n",
      "6    033\n",
      "7    017\n",
      "8    015\n",
      "9    019\n",
      "Name: C008, dtype: object\n"
     ]
    }
   ],
   "source": [
    "print(code_maps[\"C008\"])\n",
    "print(df[\"C008\"].head(10))"
   ]
  },
  {
   "cell_type": "code",
   "execution_count": 8,
   "id": "f7819331",
   "metadata": {},
   "outputs": [
    {
     "name": "stdout",
     "output_type": "stream",
     "text": [
      "(112, 1088)\n"
     ]
    }
   ],
   "source": [
    "df[\"C008\"] = pd.to_numeric(df[\"C008\"], errors=\"coerce\") # garantindo que valores são numeros e não strings\n",
    "idosos = df[df[\"C008\"] >= 60] # filtrando os maiores que 60\n",
    "print(idosos.shape)"
   ]
  },
  {
   "cell_type": "markdown",
   "id": "0c34314b",
   "metadata": {},
   "source": [
    "Como podem ver, ao filtrar os idosos, passamos de 1000 entries para 118. A partir destes idosos, podemos seguir fazendo outras análises e filtros."
   ]
  }
 ],
 "metadata": {
  "kernelspec": {
   "display_name": ".venv",
   "language": "python",
   "name": "python3"
  },
  "language_info": {
   "codemirror_mode": {
    "name": "ipython",
    "version": 3
   },
   "file_extension": ".py",
   "mimetype": "text/x-python",
   "name": "python",
   "nbconvert_exporter": "python",
   "pygments_lexer": "ipython3",
   "version": "3.13.9"
  }
 },
 "nbformat": 4,
 "nbformat_minor": 5
}
