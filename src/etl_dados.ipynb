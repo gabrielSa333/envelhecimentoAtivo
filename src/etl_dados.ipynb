{
 "cells": [
  {
   "cell_type": "code",
   "execution_count": 12,
   "id": "07d4c9e2",
   "metadata": {},
   "outputs": [],
   "source": [
    "import pandas as pd"
   ]
  },
  {
   "cell_type": "markdown",
   "id": "d19bbcad",
   "metadata": {},
   "source": [
    "Com o arquivo `dicionario_tratado.csv` em mãos (gerado no etl_dicionario), vamos prosseguir com a leitura do .txt.\n",
    "Para iniciar, o pandas fornece uma função especifica para estes modelos, e vamos usar o nosso csv para tal."
   ]
  },
  {
   "cell_type": "code",
   "execution_count": 13,
   "id": "77bb5e89",
   "metadata": {},
   "outputs": [
    {
     "name": "stdout",
     "output_type": "stream",
     "text": [
      "  Posição inicial  Tamanho Código da variável Quesito     Descrição quesito  \\\n",
      "0               1      2.0              V0001     NaN  Unidade da Federação   \n",
      "1               1      2.0              V0001     NaN  Unidade da Federação   \n",
      "2               1      2.0              V0001     NaN  Unidade da Federação   \n",
      "3               1      2.0              V0001     NaN  Unidade da Federação   \n",
      "4               1      2.0              V0001     NaN  Unidade da Federação   \n",
      "\n",
      "  Tipo categoria Descrição categoria  \n",
      "0             11            Rondônia  \n",
      "1             12                Acre  \n",
      "2             13            Amazonas  \n",
      "3             14             Roraima  \n",
      "4             15                Pará  \n"
     ]
    }
   ],
   "source": [
    "dic = pd.read_csv(\"dicionario_tratado.csv\")\n",
    "print(dic.head())"
   ]
  },
  {
   "cell_type": "markdown",
   "id": "1a7ea5e8",
   "metadata": {},
   "source": [
    "Vamos começar lidando com as linhas com mesmo código da variável, mas com valores de variáveis diferentes"
   ]
  },
  {
   "cell_type": "code",
   "execution_count": null,
   "id": "512d1ff0",
   "metadata": {},
   "outputs": [
    {
     "name": "stdout",
     "output_type": "stream",
     "text": [
      "\n",
      "A001\n",
      "(34, 35)\n",
      "       var  Posição inicial  Tamanho  start0  end0\n",
      "983  V0001                1        2       0     2\n"
     ]
    }
   ],
   "source": [
    "dic_vars = (\n",
    "    dic.groupby('Código da variável', as_index=False)\n",
    "       .agg({'Posição inicial':'first', 'Tamanho':'first'})\n",
    "       .rename(columns={'Código da variável':'var'})\n",
    ")\n",
    "# garantir inteiros\n",
    "dic_vars['Posição inicial'] = dic_vars['Posição inicial'].astype('Int64')\n",
    "dic_vars['Tamanho'] = dic_vars['Tamanho'].astype('Int64')\n",
    "\n",
    "# Posições\n",
    "dic_vars['start0'] = dic_vars['Posição inicial'] - 1\n",
    "dic_vars['end0']   = dic_vars['start0'] + dic_vars['Tamanho']\n",
    "\n",
    "colspecs = list(zip(dic_vars['start0'].astype(int), dic_vars['end0'].astype(int)))\n",
    "names = dic_vars['var'].tolist()\n",
    "\n",
    "print(names[0])\n",
    "print(colspecs[0])\n"
   ]
  },
  {
   "cell_type": "markdown",
   "id": "cb00c064",
   "metadata": {},
   "source": [
    "Agora, vamos criar o mapping para as variáveis"
   ]
  },
  {
   "cell_type": "code",
   "execution_count": 18,
   "id": "80d876f6",
   "metadata": {},
   "outputs": [
    {
     "name": "stdout",
     "output_type": "stream",
     "text": [
      "{'11': 'Rondônia', '12': 'Acre', '13': 'Amazonas', '14': 'Roraima', '15': 'Pará', '16': 'Amapá', '17': 'Tocantins', '21': 'Maranhão', '22': 'Piauí', '23': 'Ceará', '24': 'Rio Grande do Norte', '25': 'Paraíba', '26': 'Pernambuco', '27': 'Alagoas', '28': 'Sergipe', '29': 'Bahia', '31': 'Minas Gerais', '32': 'Espírito Santo', '33': 'Rio de Janeiro', '35': 'São Paulo', '41': 'Paraná', '42': 'Santa Catarina', '43': 'Rio Grande do Sul', '50': 'Mato Grosso do Sul', '51': 'Mato Grosso', '52': 'Goiás', '53': 'Distrito Federal'}\n"
     ]
    }
   ],
   "source": [
    "dic['Tipo categoria'] = dic['Tipo categoria'].astype('string')\n",
    "dic['Descrição categoria'] = dic['Descrição categoria'].astype('string')\n",
    "\n",
    "code_maps = {}\n",
    "for var, g in dic.groupby('Código da variável'):\n",
    "    # só linhas que realmente têm categoria\n",
    "    g = g.dropna(subset=['Tipo categoria', 'Descrição categoria'])\n",
    "    if not g.empty:\n",
    "        code_maps[var] = dict(zip(g['Tipo categoria'], g['Descrição categoria']))\n",
    "\n",
    "print(code_maps['V0001'])\n"
   ]
  },
  {
   "cell_type": "markdown",
   "id": "98a3e209",
   "metadata": {},
   "source": [
    "Finalmente, podemos seguir com a leitura dos microdados."
   ]
  },
  {
   "cell_type": "code",
   "execution_count": null,
   "id": "82a7f5e8",
   "metadata": {},
   "outputs": [],
   "source": [
    "df = pd.read_fwf(\n",
    "    'dados.txt',\n",
    "    colspecs=colspecs,\n",
    "    names=names,\n",
    "    dtype=str,\n",
    "    encoding='utf-8'\n",
    ")\n",
    "# Mapping das variaveis\n",
    "for var, mapping in code_maps.items():\n",
    "    if var in df.columns:\n",
    "        df[var] = df[var].astype('string').map(mapping).fillna(df[var])"
   ]
  }
 ],
 "metadata": {
  "kernelspec": {
   "display_name": ".venv",
   "language": "python",
   "name": "python3"
  },
  "language_info": {
   "codemirror_mode": {
    "name": "ipython",
    "version": 3
   },
   "file_extension": ".py",
   "mimetype": "text/x-python",
   "name": "python",
   "nbconvert_exporter": "python",
   "pygments_lexer": "ipython3",
   "version": "3.13.9"
  }
 },
 "nbformat": 4,
 "nbformat_minor": 5
}
