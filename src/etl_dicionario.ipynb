{
 "cells": [
  {
   "cell_type": "code",
   "execution_count": 64,
   "id": "fb0619c0",
   "metadata": {},
   "outputs": [],
   "source": [
    "import pandas as pd\n",
    "import numpy as np\n",
    "import re\n",
    "import json\n",
    "from pathlib import Path"
   ]
  },
  {
   "cell_type": "markdown",
   "id": "e77a0a71",
   "metadata": {},
   "source": [
    "O formato em que as informações estão dispostas no arquivo `PNS_2019.txt` seguindo o formato fixed-width:\n",
    "- Cada linha representa uma entrada diferente,\n",
    "- O arquivo `dicionario_PNS_microdados_2019.xls` documenta as variáveis e em qual posição estão.\n",
    "\n",
    "Vamos começar coletando as informações do dicionário."
   ]
  },
  {
   "cell_type": "code",
   "execution_count": 65,
   "id": "d7bda496",
   "metadata": {},
   "outputs": [],
   "source": [
    "df = pd.read_excel(\"dicionario_PNS_microdados_2019.xls\", skiprows=1, header=0)"
   ]
  },
  {
   "cell_type": "markdown",
   "id": "1a5fee9b",
   "metadata": {},
   "source": [
    "Vamos validar as colunas e colocar os nomes corretos:"
   ]
  },
  {
   "cell_type": "code",
   "execution_count": 66,
   "id": "cb882fad",
   "metadata": {},
   "outputs": [
    {
     "name": "stdout",
     "output_type": "stream",
     "text": [
      "Index(['Posição inicial ', 'Tamanho', 'Código\\nda\\nvariável', 'Quesito',\n",
      "       'Unnamed: 4', 'Categorias', 'Unnamed: 6'],\n",
      "      dtype='object')\n"
     ]
    }
   ],
   "source": [
    "print(df.columns)"
   ]
  },
  {
   "cell_type": "code",
   "execution_count": 67,
   "id": "c4b6876a",
   "metadata": {},
   "outputs": [
    {
     "name": "stdout",
     "output_type": "stream",
     "text": [
      "Index(['Posição inicial', 'Tamanho', 'Código da variável', 'Quesito',\n",
      "       'Descrição quesito', 'Tipo categoria', 'Descrição categoria'],\n",
      "      dtype='object')\n"
     ]
    }
   ],
   "source": [
    "df.columns = df.columns.str.replace('\\n', ' ').str.strip()\n",
    "df = df.rename(columns={\n",
    "    'Unnamed: 4': 'Descrição quesito',\n",
    "    'Categorias': 'Tipo categoria',\n",
    "    'Unnamed: 6': 'Descrição categoria'\n",
    "})\n",
    "print(df.columns)"
   ]
  },
  {
   "cell_type": "markdown",
   "id": "e5a4ff0f",
   "metadata": {},
   "source": [
    "Vamos seguir removendo as linhas que dividem a planilha em partes e módulo, além das linhas totalmente em branco, já que não serão relevantes para a análise:"
   ]
  },
  {
   "cell_type": "code",
   "execution_count": null,
   "id": "6971b7e4",
   "metadata": {},
   "outputs": [
    {
     "name": "stdout",
     "output_type": "stream",
     "text": [
      "Posição inicial              NaN\n",
      "Tamanho                      NaN\n",
      "Código da variável           NaN\n",
      "Quesito                       nº\n",
      "Descrição quesito      descrição\n",
      "Tipo categoria             Tipo \n",
      "Descrição categoria    Descrição\n",
      "Name: 0, dtype: object\n"
     ]
    }
   ],
   "source": [
    "print(df.iloc[2]) # Exemplo de linha que separa a planilha"
   ]
  },
  {
   "cell_type": "code",
   "execution_count": 75,
   "id": "0126337c",
   "metadata": {},
   "outputs": [
    {
     "name": "stdout",
     "output_type": "stream",
     "text": [
      "Posição inicial         NaN\n",
      "Tamanho                 NaN\n",
      "Código da variável      NaN\n",
      "Quesito                 NaN\n",
      "Descrição quesito       NaN\n",
      "Tipo categoria           12\n",
      "Descrição categoria    Acre\n",
      "Name: 4, dtype: object\n"
     ]
    }
   ],
   "source": [
    "# Remove linhas onde 'Posição inicial' contém 'Parte' ou 'Módulo'\n",
    "df = df[~df['Posição inicial'].astype(str).str.contains('Parte|Módulo', case=False, na=False)]\n",
    "# Remove as linhas vazias\n",
    "df = df.dropna(how='all')\n",
    "print(df.iloc[2])"
   ]
  },
  {
   "cell_type": "markdown",
   "id": "7e18d9cc",
   "metadata": {},
   "source": [
    "Algumas linhas ainda estão com informação faltando, e isso ocorre porque são mescladas com outras linhas. Para ajustar isso, vamos fazer um forward fill (Apenas das colunas específicas):"
   ]
  },
  {
   "cell_type": "code",
   "execution_count": 77,
   "id": "f91887c3",
   "metadata": {},
   "outputs": [],
   "source": [
    "df = df.drop(index=0) # Linha com descrição da coluna"
   ]
  },
  {
   "cell_type": "code",
   "execution_count": 78,
   "id": "8029c686",
   "metadata": {},
   "outputs": [
    {
     "name": "stdout",
     "output_type": "stream",
     "text": [
      "Posição inicial                           1\n",
      "Tamanho                                 2.0\n",
      "Código da variável                    V0001\n",
      "Quesito                                 NaN\n",
      "Descrição quesito      Unidade da Federação\n",
      "Tipo categoria                           13\n",
      "Descrição categoria                Amazonas\n",
      "Name: 5, dtype: object\n"
     ]
    }
   ],
   "source": [
    "cols_to_ffill = ['Posição inicial', 'Tamanho', 'Código da variável', 'Quesito', 'Descrição quesito']\n",
    "df[cols_to_ffill] = df[cols_to_ffill].ffill()\n",
    "print(df.iloc[2])"
   ]
  },
  {
   "cell_type": "markdown",
   "id": "c9ee0618",
   "metadata": {},
   "source": [
    "Com os tratamentos feitos, vamos finalizar salvando o dicionário em um CSV para auxiliar na leitura dos microdados."
   ]
  },
  {
   "cell_type": "code",
   "execution_count": 79,
   "id": "9538923d",
   "metadata": {},
   "outputs": [],
   "source": [
    "df.to_csv(\"dicionario_tratado.csv\", index=False, encoding=\"utf-8\")"
   ]
  }
 ],
 "metadata": {
  "kernelspec": {
   "display_name": ".venv",
   "language": "python",
   "name": "python3"
  },
  "language_info": {
   "codemirror_mode": {
    "name": "ipython",
    "version": 3
   },
   "file_extension": ".py",
   "mimetype": "text/x-python",
   "name": "python",
   "nbconvert_exporter": "python",
   "pygments_lexer": "ipython3",
   "version": "3.13.9"
  }
 },
 "nbformat": 4,
 "nbformat_minor": 5
}
